{
 "cells": [
  {
   "cell_type": "code",
   "execution_count": 242,
   "metadata": {},
   "outputs": [],
   "source": [
    "import pandas as pd\n",
    "import seaborn as sns\n",
    "import matplotlib.pyplot as plt\n",
    "#loading the data\n",
    "df = pd.read_csv(r'books1.csv')\n",
    "#clearing the data\n",
    "df = df[df['  num_pages'] != 0]\n",
    "df = df[df['ratings_count'] != 0]\n",
    "df = df[df['average_rating'] != 0]"
   ]
  },
  {
   "cell_type": "code",
   "execution_count": 243,
   "metadata": {},
   "outputs": [],
   "source": [
    "#Spliting the data into the two groups of long books and short books\n",
    "belowth = df[df[\"  num_pages\"] < 1000][\"average_rating\"]\n",
    "aboveth = df[df[\"  num_pages\"] >= 1000][\"average_rating\"]"
   ]
  },
  {
   "cell_type": "code",
   "execution_count": 244,
   "metadata": {},
   "outputs": [
    {
     "data": {
      "text/plain": [
       "<AxesSubplot:xlabel='average_rating', ylabel='Count'>"
      ]
     },
     "execution_count": 244,
     "metadata": {},
     "output_type": "execute_result"
    },
    {
     "data": {
      "image/png": "[encoded data removed]",
      "text/plain": [
       "<Figure size 432x288 with 1 Axes>"
      ]
     },
     "metadata": {
      "needs_background": "light"
     },
     "output_type": "display_data"
    }
   ],
   "source": [
    "#plotting the data of long books\n",
    "sns.histplot(aboveth)"
   ]
  },
  {
   "cell_type": "code",
   "execution_count": 245,
   "metadata": {},
   "outputs": [
    {
     "data": {
      "text/plain": [
       "<AxesSubplot:xlabel='average_rating', ylabel='Count'>"
      ]
     },
     "execution_count": 245,
     "metadata": {},
     "output_type": "execute_result"
    },
    {
     "data": {
      "image/png": "[encoded data removed]",
      "text/plain": [
       "<Figure size 432x288 with 1 Axes>"
      ]
     },
     "metadata": {
      "needs_background": "light"
     },
     "output_type": "display_data"
    }
   ],
   "source": [
    "#plotting the long books data\n",
    "sns.histplot(belowth)"
   ]
  },
  {
   "cell_type": "code",
   "execution_count": 246,
   "metadata": {},
   "outputs": [
    {
     "name": "stdout",
     "output_type": "stream",
     "text": [
      "Short books stats summary:\n",
      "mean: 3.94 sample size: 10753 SD: 0.29 median: 3.96 mode: range: 4.0\n",
      "Long books stats summary:\n",
      "mean: 4.22 sample size: 215 SD: 0.26 median: 4.25 mode: range: 1.71\n"
     ]
    }
   ],
   "source": [
    "#analyzing the data stats\n",
    "x1 = belowth.mean()\n",
    "n1 = len(belowth)\n",
    "s1 = belowth.std(ddof=1)\n",
    "median1 = belowth.median()\n",
    "mode1 = belowth.mode()\n",
    "range1 = belowth.max() - belowth.min()\n",
    "x2 = aboveth.mean()\n",
    "n2 = len(aboveth)\n",
    "s2 = aboveth.std(ddof=1)\n",
    "median2 = aboveth.median()\n",
    "mode2 = aboveth.mode()\n",
    "range2 = aboveth.max() - aboveth.min()\n",
    "print(\"Short books stats summary:\")\n",
    "print(\"mean:\", round(x1,2), \"sample size:\",n1,\"SD:\",round(s1,2), \"median:\",median1, \"range:\", range1, )\n",
    "print(\"Long books stats summary:\")\n",
    "print(\"mean:\",round(x2,2),\"sample size:\",n2,\"SD:\",round(s2,2), \"median:\", median2, \"range:\", round(range2,2))"
   ]
  },
  {
   "cell_type": "code",
   "execution_count": 251,
   "metadata": {},
   "outputs": [
    {
     "name": "stdout",
     "output_type": "stream",
     "text": [
      "Confidance interval for the average rating of the short books: [3.932, 3.943]\n",
      "Confidance interval for the average rating of the long books: [4.189, 4.26]\n",
      "Mean of books with pages less than 500: 3.94\n",
      "Mean of books with pages more than 500: 4.22\n",
      "Standered error: 0.018\n",
      "T_Score: 15.75\n",
      "dof: 214\n",
      "P_Value: 0.0\n",
      "Boolean standard deviation: 0.29\n",
      "Cohen's d: 0.98\n"
     ]
    }
   ],
   "source": [
    "from scipy import stats\n",
    "#calculating the weighted SE of the difference of means\n",
    "standared_error = ( \n",
    "( (s1**2) /n1 ) + \n",
    "( (s2**2) /n2 ) \n",
    ") ** 0.5\n",
    "#calculating the two score for the difference of means\n",
    "t_score = abs((x1-x2))/standared_error\n",
    "number_tails = 2\n",
    "#degrees of freedom\n",
    "dof = min(n1,n2) - 1\n",
    "#calculating the p-value with according to the number of tails\n",
    "p_value = number_tails * (1-stats.t.cdf(t_score,dof))\n",
    "#calculating the poleen SD\n",
    "psd= ( \n",
    "    ( (s1**2)*(n1-1) + (s2**2) *(n2-1)) / (n1+n2-2)\n",
    "    )**0.5\n",
    "#calculating Cohen's d for practical significance\n",
    "cohens_d = (x2-x1)/psd\n",
    "#calculating the confidence intervals for both long and short books data\n",
    "CI1 = [round( (-stats.t.ppf(0.975, n1-1) * s1/n1**0.5) + x1, 3), round((stats.t.ppf(0.975, n1-1) * s1/n1**0.5) + x1,3)]\n",
    "CI2 = [round((-stats.t.ppf(0.975, n2-1) * s2/n2**0.5) + x2, 3),round ((stats.t.ppf(0.975, n2-1) * s2/n2**0.5) + x2,3) ]\n",
    "print(\"Confidance interval for the average rating of the short books:\", CI1)\n",
    "print(\"Confidance interval for the average rating of the long books:\", CI2)\n",
    "print(\"Mean of books with pages less than 500:\", round(x1,2))\n",
    "print(\"Mean of books with pages more than 500:\", round(x2,2))\n",
    "print(\"Standered error:\", round(standared_error,3))\n",
    "print(\"T_Score:\", round(t_score,2))\n",
    "print(\"dof:\", dof)\n",
    "print(\"P_Value:\", p_value)\n",
    "print(\"Boolean standard deviation:\", round(psd,2))\n",
    "print(\"Cohen's d:\", round(cohens_d,2))"
   ]
  }
 ],
 "metadata": {
  "interpreter": {
   "hash": "2773eb7d485aee577314c46cb95dca47433bbf448c3cf8b2df5026a692e075c7"
  },
  "kernelspec": {
   "display_name": "Python 3.9.6 64-bit",
   "language": "python",
   "name": "python3"
  },
  "language_info": {
   "codemirror_mode": {
    "name": "ipython",
    "version": 3
   },
   "file_extension": ".py",
   "mimetype": "text/x-python",
   "name": "python",
   "nbconvert_exporter": "python",
   "pygments_lexer": "ipython3",
   "version": "3.9.6"
  },
  "orig_nbformat": 4
 },
 "nbformat": 4,
 "nbformat_minor": 2
}
